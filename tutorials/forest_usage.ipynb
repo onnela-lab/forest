{
 "cells": [
  {
   "cell_type": "markdown",
   "metadata": {},
   "source": [
    "# Introduction"
   ]
  },
  {
   "cell_type": "markdown",
   "metadata": {},
   "source": [
    "This is a tutorial for using Forest to analyze Beiwe data. We will also be creating some time series plots using the generated statistic summaries. There are four parts to this tutorial.\n",
    "\n",
    "1. Check Python version and download Forest.\n",
    "2. Download sample data.\n",
    "3. Process data using forest.\n",
    "4. Creating time series plots. "
   ]
  },
  {
   "cell_type": "markdown",
   "metadata": {},
   "source": [
    "## Check Python Version and Download Forest"
   ]
  },
  {
   "cell_type": "markdown",
   "metadata": {},
   "source": [
    "Before we begin, we need to check the current distribution of Python. Note that forest is built using Python 3.8. "
   ]
  },
  {
   "cell_type": "code",
   "execution_count": 1,
   "metadata": {},
   "outputs": [],
   "source": [
    "from platform import python_version\n",
    "import sys"
   ]
  },
  {
   "cell_type": "markdown",
   "metadata": {},
   "source": [
    "- Print the python version and the path to the Python interpreter. "
   ]
  },
  {
   "cell_type": "code",
   "execution_count": 2,
   "metadata": {},
   "outputs": [
    {
     "name": "stdout",
     "output_type": "stream",
     "text": [
      "3.8.12\n",
      "/Volumes/SanDisk/opt/anaconda3/envs/python_3_8/bin/python\n"
     ]
    }
   ],
   "source": [
    "print(python_version()) ## Prints your version of python\n",
    "print(sys.executable) ## Prints your current python installation"
   ]
  },
  {
   "cell_type": "markdown",
   "metadata": {},
   "source": [
    "*The output should display two lines.* \n",
    "\n",
    "1. The Python version installed- make sure you are not using a version of Python that is earlier than 3.8\n",
    "2. The path to where Python is currently installed"
   ]
  },
  {
   "cell_type": "markdown",
   "metadata": {},
   "source": [
    "- You may need to install git, pip, and forest. To do so, enter the lines below in a command-line shell. If not, you can skip to the next step. "
   ]
  },
  {
   "cell_type": "code",
   "execution_count": null,
   "metadata": {},
   "outputs": [],
   "source": [
    "# conda install git pip\n",
    "# pip install git+git://github.com/onnela-lab/forest.git@main"
   ]
  },
  {
   "cell_type": "markdown",
   "metadata": {},
   "source": [
    "## Download Sample Data\n"
   ]
  },
  {
   "cell_type": "markdown",
   "metadata": {},
   "source": [
    "For this tutorial, we will be using publically released data from the Beiwe Research Platform that is available through Zenodo. The Beiwe Research Platform collects high-density data from a variety of smartphone sensors including GPS, WiFi, Bluetooth, and accelerometer. Further information on the dataset and Beiwe can be found https://github.com/mkiang/beiwe_data_sample."
   ]
  },
  {
   "cell_type": "code",
   "execution_count": 3,
   "metadata": {},
   "outputs": [],
   "source": [
    "import wget\n",
    "import zipfile\n",
    "import os"
   ]
  },
  {
   "cell_type": "markdown",
   "metadata": {},
   "source": [
    "- For **source_url**, enter the \"url to the dataset\". \n",
    "- For **dest_dir**, enter the \"path to the destination folder\". "
   ]
  },
  {
   "cell_type": "code",
   "execution_count": 4,
   "metadata": {},
   "outputs": [
    {
     "name": "stdout",
     "output_type": "stream",
     "text": [
      "100% [..................................................] 775681924 / 775681924"
     ]
    }
   ],
   "source": [
    "source_url = \"https://zenodo.org/record/1188879/files/data.zip?download=1\"\n",
    "dest_dir = os.getcwd()\n",
    "zip_fpath = wget.download(source_url, out = dest_dir)"
   ]
  },
  {
   "cell_type": "markdown",
   "metadata": {},
   "source": [
    "*The output should display the download progress if this code is running correctly. Note this is a large data file (~740 MB of data). This will take betwen ten minutes and an hour or more, depending on the speed of your internet connection. Once the download is complete, a zip file should be saved in the destination folder.*"
   ]
  },
  {
   "cell_type": "markdown",
   "metadata": {},
   "source": [
    "- Unzip the file downloaded in the previous block into a folder called **data**. The subfolders in this directory contain data produced by the Beiwe app."
   ]
  },
  {
   "cell_type": "code",
   "execution_count": 5,
   "metadata": {},
   "outputs": [],
   "source": [
    "with zipfile.ZipFile(zip_fpath, 'r') as zip_ref:\n",
    "    zip_ref.extractall(dest_dir)"
   ]
  },
  {
   "cell_type": "markdown",
   "metadata": {},
   "source": [
    "- Remove the downloaded zip file to save space on your computer"
   ]
  },
  {
   "cell_type": "code",
   "execution_count": 6,
   "metadata": {},
   "outputs": [],
   "source": [
    " os.remove(zip_fpath)"
   ]
  },
  {
   "cell_type": "markdown",
   "metadata": {},
   "source": [
    "- Verify that the process of downloading and unzipping the data is complete."
   ]
  },
  {
   "cell_type": "code",
   "execution_count": 7,
   "metadata": {},
   "outputs": [
    {
     "name": "stdout",
     "output_type": "stream",
     "text": [
      "Data Successfully Downloaded and Unzipped\n"
     ]
    }
   ],
   "source": [
    "# check the unzipped dir exists \n",
    "data_dir = \"data\"\n",
    "if os.path.isdir(data_dir):\n",
    "    print(\"Data Successfully Downloaded and Unzipped\")"
   ]
  },
  {
   "cell_type": "markdown",
   "metadata": {},
   "source": [
    "*The output should say \"Data Successfully Downloaded and Unzipped\" if this code was successful.*"
   ]
  },
  {
   "cell_type": "markdown",
   "metadata": {},
   "source": [
    "## Process Data using Forest \n",
    "- Using the Forest library developed by the Onnela lab, we compute daily GPS and communication summary statistics"
   ]
  },
  {
   "cell_type": "markdown",
   "metadata": {},
   "source": [
    "First, we generate the GPS-related summary statistics by using the **gps_stats_main** function under the **traj2stat.py** in the Jasmine tree of Forest. This code will take about 15-30 minutes to run, depending on your machine."
   ]
  },
  {
   "cell_type": "markdown",
   "metadata": {},
   "source": [
    "- For **data_dir**, enter the \"path to the data file directory\". \n",
    "- For **output_dir**, enter the \"path to the file directory where output is to be stored\". \n",
    "- For **tz_str**, enter the time zone where the study was conducted. Here, it's **\"America/New_York.\"** We can use \"pytz.all_timezones\" to check all options.\n",
    "- For **options**, there are 'daily' or 'hourly' or 'both' for the temporal resolution for summary statistics. Here, we chose **\"daily.\"**\n",
    "- For **save_traj**, it's \"True\" if you want to save the trajectories as a csv file, \"False\" if you don't (default: False). Here, we chose **\"True.\"**"
   ]
  },
  {
   "cell_type": "code",
   "execution_count": 6,
   "metadata": {},
   "outputs": [
    {
     "name": "stdout",
     "output_type": "stream",
     "text": [
      "User: 6b38vskd\n",
      "Read in the csv files ...\n"
     ]
    },
    {
     "name": "stderr",
     "output_type": "stream",
     "text": [
      "/Volumes/SanDisk/opt/anaconda3/envs/python_3_8/lib/python3.8/site-packages/forest/poplar/legacy/common_funcs.py:136: FutureWarning: The frame.append method is deprecated and will be removed from pandas in a future version. Use pandas.concat instead.\n",
      "  df = df.append(hour_data,ignore_index=True)\n",
      "/Volumes/SanDisk/opt/anaconda3/envs/python_3_8/lib/python3.8/site-packages/forest/poplar/legacy/common_funcs.py:136: FutureWarning: The frame.append method is deprecated and will be removed from pandas in a future version. Use pandas.concat instead.\n",
      "  df = df.append(hour_data,ignore_index=True)\n",
      "/Volumes/SanDisk/opt/anaconda3/envs/python_3_8/lib/python3.8/site-packages/forest/poplar/legacy/common_funcs.py:136: FutureWarning: The frame.append method is deprecated and will be removed from pandas in a future version. Use pandas.concat instead.\n",
      "  df = df.append(hour_data,ignore_index=True)\n",
      "/Volumes/SanDisk/opt/anaconda3/envs/python_3_8/lib/python3.8/site-packages/forest/poplar/legacy/common_funcs.py:136: FutureWarning: The frame.append method is deprecated and will be removed from pandas in a future version. Use pandas.concat instead.\n",
      "  df = df.append(hour_data,ignore_index=True)\n",
      "/Volumes/SanDisk/opt/anaconda3/envs/python_3_8/lib/python3.8/site-packages/forest/poplar/legacy/common_funcs.py:136: FutureWarning: The frame.append method is deprecated and will be removed from pandas in a future version. Use pandas.concat instead.\n",
      "  df = df.append(hour_data,ignore_index=True)\n",
      "/Volumes/SanDisk/opt/anaconda3/envs/python_3_8/lib/python3.8/site-packages/forest/poplar/legacy/common_funcs.py:136: FutureWarning: The frame.append method is deprecated and will be removed from pandas in a future version. Use pandas.concat instead.\n",
      "  df = df.append(hour_data,ignore_index=True)\n",
      "/Volumes/SanDisk/opt/anaconda3/envs/python_3_8/lib/python3.8/site-packages/forest/poplar/legacy/common_funcs.py:136: FutureWarning: The frame.append method is deprecated and will be removed from pandas in a future version. Use pandas.concat instead.\n",
      "  df = df.append(hour_data,ignore_index=True)\n",
      "/Volumes/SanDisk/opt/anaconda3/envs/python_3_8/lib/python3.8/site-packages/forest/poplar/legacy/common_funcs.py:136: FutureWarning: The frame.append method is deprecated and will be removed from pandas in a future version. Use pandas.concat instead.\n",
      "  df = df.append(hour_data,ignore_index=True)\n",
      "/Volumes/SanDisk/opt/anaconda3/envs/python_3_8/lib/python3.8/site-packages/forest/poplar/legacy/common_funcs.py:136: FutureWarning: The frame.append method is deprecated and will be removed from pandas in a future version. Use pandas.concat instead.\n",
      "  df = df.append(hour_data,ignore_index=True)\n",
      "/Volumes/SanDisk/opt/anaconda3/envs/python_3_8/lib/python3.8/site-packages/forest/poplar/legacy/common_funcs.py:136: FutureWarning: The frame.append method is deprecated and will be removed from pandas in a future version. Use pandas.concat instead.\n",
      "  df = df.append(hour_data,ignore_index=True)\n",
      "/Volumes/SanDisk/opt/anaconda3/envs/python_3_8/lib/python3.8/site-packages/forest/poplar/legacy/common_funcs.py:136: FutureWarning: The frame.append method is deprecated and will be removed from pandas in a future version. Use pandas.concat instead.\n",
      "  df = df.append(hour_data,ignore_index=True)\n",
      "/Volumes/SanDisk/opt/anaconda3/envs/python_3_8/lib/python3.8/site-packages/forest/poplar/legacy/common_funcs.py:136: FutureWarning: The frame.append method is deprecated and will be removed from pandas in a future version. Use pandas.concat instead.\n",
      "  df = df.append(hour_data,ignore_index=True)\n",
      "/Volumes/SanDisk/opt/anaconda3/envs/python_3_8/lib/python3.8/site-packages/forest/poplar/legacy/common_funcs.py:136: FutureWarning: The frame.append method is deprecated and will be removed from pandas in a future version. Use pandas.concat instead.\n",
      "  df = df.append(hour_data,ignore_index=True)\n",
      "/Volumes/SanDisk/opt/anaconda3/envs/python_3_8/lib/python3.8/site-packages/forest/poplar/legacy/common_funcs.py:136: FutureWarning: The frame.append method is deprecated and will be removed from pandas in a future version. Use pandas.concat instead.\n",
      "  df = df.append(hour_data,ignore_index=True)\n",
      "/Volumes/SanDisk/opt/anaconda3/envs/python_3_8/lib/python3.8/site-packages/forest/poplar/legacy/common_funcs.py:136: FutureWarning: The frame.append method is deprecated and will be removed from pandas in a future version. Use pandas.concat instead.\n",
      "  df = df.append(hour_data,ignore_index=True)\n",
      "/Volumes/SanDisk/opt/anaconda3/envs/python_3_8/lib/python3.8/site-packages/forest/poplar/legacy/common_funcs.py:136: FutureWarning: The frame.append method is deprecated and will be removed from pandas in a future version. Use pandas.concat instead.\n",
      "  df = df.append(hour_data,ignore_index=True)\n",
      "/Volumes/SanDisk/opt/anaconda3/envs/python_3_8/lib/python3.8/site-packages/forest/poplar/legacy/common_funcs.py:136: FutureWarning: The frame.append method is deprecated and will be removed from pandas in a future version. Use pandas.concat instead.\n",
      "  df = df.append(hour_data,ignore_index=True)\n",
      "/Volumes/SanDisk/opt/anaconda3/envs/python_3_8/lib/python3.8/site-packages/forest/poplar/legacy/common_funcs.py:136: FutureWarning: The frame.append method is deprecated and will be removed from pandas in a future version. Use pandas.concat instead.\n",
      "  df = df.append(hour_data,ignore_index=True)\n",
      "/Volumes/SanDisk/opt/anaconda3/envs/python_3_8/lib/python3.8/site-packages/forest/poplar/legacy/common_funcs.py:136: FutureWarning: The frame.append method is deprecated and will be removed from pandas in a future version. Use pandas.concat instead.\n",
      "  df = df.append(hour_data,ignore_index=True)\n",
      "/Volumes/SanDisk/opt/anaconda3/envs/python_3_8/lib/python3.8/site-packages/forest/poplar/legacy/common_funcs.py:136: FutureWarning: The frame.append method is deprecated and will be removed from pandas in a future version. Use pandas.concat instead.\n",
      "  df = df.append(hour_data,ignore_index=True)\n",
      "/Volumes/SanDisk/opt/anaconda3/envs/python_3_8/lib/python3.8/site-packages/forest/poplar/legacy/common_funcs.py:136: FutureWarning: The frame.append method is deprecated and will be removed from pandas in a future version. Use pandas.concat instead.\n",
      "  df = df.append(hour_data,ignore_index=True)\n",
      "/Volumes/SanDisk/opt/anaconda3/envs/python_3_8/lib/python3.8/site-packages/forest/poplar/legacy/common_funcs.py:136: FutureWarning: The frame.append method is deprecated and will be removed from pandas in a future version. Use pandas.concat instead.\n",
      "  df = df.append(hour_data,ignore_index=True)\n",
      "/Volumes/SanDisk/opt/anaconda3/envs/python_3_8/lib/python3.8/site-packages/forest/poplar/legacy/common_funcs.py:136: FutureWarning: The frame.append method is deprecated and will be removed from pandas in a future version. Use pandas.concat instead.\n",
      "  df = df.append(hour_data,ignore_index=True)\n",
      "/Volumes/SanDisk/opt/anaconda3/envs/python_3_8/lib/python3.8/site-packages/forest/poplar/legacy/common_funcs.py:136: FutureWarning: The frame.append method is deprecated and will be removed from pandas in a future version. Use pandas.concat instead.\n",
      "  df = df.append(hour_data,ignore_index=True)\n",
      "/Volumes/SanDisk/opt/anaconda3/envs/python_3_8/lib/python3.8/site-packages/forest/poplar/legacy/common_funcs.py:136: FutureWarning: The frame.append method is deprecated and will be removed from pandas in a future version. Use pandas.concat instead.\n",
      "  df = df.append(hour_data,ignore_index=True)\n",
      "/Volumes/SanDisk/opt/anaconda3/envs/python_3_8/lib/python3.8/site-packages/forest/poplar/legacy/common_funcs.py:136: FutureWarning: The frame.append method is deprecated and will be removed from pandas in a future version. Use pandas.concat instead.\n",
      "  df = df.append(hour_data,ignore_index=True)\n",
      "/Volumes/SanDisk/opt/anaconda3/envs/python_3_8/lib/python3.8/site-packages/forest/poplar/legacy/common_funcs.py:136: FutureWarning: The frame.append method is deprecated and will be removed from pandas in a future version. Use pandas.concat instead.\n",
      "  df = df.append(hour_data,ignore_index=True)\n",
      "/Volumes/SanDisk/opt/anaconda3/envs/python_3_8/lib/python3.8/site-packages/forest/poplar/legacy/common_funcs.py:136: FutureWarning: The frame.append method is deprecated and will be removed from pandas in a future version. Use pandas.concat instead.\n",
      "  df = df.append(hour_data,ignore_index=True)\n",
      "/Volumes/SanDisk/opt/anaconda3/envs/python_3_8/lib/python3.8/site-packages/forest/poplar/legacy/common_funcs.py:136: FutureWarning: The frame.append method is deprecated and will be removed from pandas in a future version. Use pandas.concat instead.\n",
      "  df = df.append(hour_data,ignore_index=True)\n",
      "/Volumes/SanDisk/opt/anaconda3/envs/python_3_8/lib/python3.8/site-packages/forest/poplar/legacy/common_funcs.py:136: FutureWarning: The frame.append method is deprecated and will be removed from pandas in a future version. Use pandas.concat instead.\n",
      "  df = df.append(hour_data,ignore_index=True)\n",
      "/Volumes/SanDisk/opt/anaconda3/envs/python_3_8/lib/python3.8/site-packages/forest/poplar/legacy/common_funcs.py:136: FutureWarning: The frame.append method is deprecated and will be removed from pandas in a future version. Use pandas.concat instead.\n",
      "  df = df.append(hour_data,ignore_index=True)\n",
      "/Volumes/SanDisk/opt/anaconda3/envs/python_3_8/lib/python3.8/site-packages/forest/poplar/legacy/common_funcs.py:136: FutureWarning: The frame.append method is deprecated and will be removed from pandas in a future version. Use pandas.concat instead.\n",
      "  df = df.append(hour_data,ignore_index=True)\n",
      "/Volumes/SanDisk/opt/anaconda3/envs/python_3_8/lib/python3.8/site-packages/forest/poplar/legacy/common_funcs.py:136: FutureWarning: The frame.append method is deprecated and will be removed from pandas in a future version. Use pandas.concat instead.\n",
      "  df = df.append(hour_data,ignore_index=True)\n",
      "/Volumes/SanDisk/opt/anaconda3/envs/python_3_8/lib/python3.8/site-packages/forest/poplar/legacy/common_funcs.py:136: FutureWarning: The frame.append method is deprecated and will be removed from pandas in a future version. Use pandas.concat instead.\n",
      "  df = df.append(hour_data,ignore_index=True)\n"
     ]
    },
    {
     "name": "stderr",
     "output_type": "stream",
     "text": [
      "/Volumes/SanDisk/opt/anaconda3/envs/python_3_8/lib/python3.8/site-packages/forest/poplar/legacy/common_funcs.py:136: FutureWarning: The frame.append method is deprecated and will be removed from pandas in a future version. Use pandas.concat instead.\n",
      "  df = df.append(hour_data,ignore_index=True)\n",
      "/Volumes/SanDisk/opt/anaconda3/envs/python_3_8/lib/python3.8/site-packages/forest/poplar/legacy/common_funcs.py:136: FutureWarning: The frame.append method is deprecated and will be removed from pandas in a future version. Use pandas.concat instead.\n",
      "  df = df.append(hour_data,ignore_index=True)\n",
      "/Volumes/SanDisk/opt/anaconda3/envs/python_3_8/lib/python3.8/site-packages/forest/poplar/legacy/common_funcs.py:136: FutureWarning: The frame.append method is deprecated and will be removed from pandas in a future version. Use pandas.concat instead.\n",
      "  df = df.append(hour_data,ignore_index=True)\n",
      "/Volumes/SanDisk/opt/anaconda3/envs/python_3_8/lib/python3.8/site-packages/forest/poplar/legacy/common_funcs.py:136: FutureWarning: The frame.append method is deprecated and will be removed from pandas in a future version. Use pandas.concat instead.\n",
      "  df = df.append(hour_data,ignore_index=True)\n",
      "/Volumes/SanDisk/opt/anaconda3/envs/python_3_8/lib/python3.8/site-packages/forest/poplar/legacy/common_funcs.py:136: FutureWarning: The frame.append method is deprecated and will be removed from pandas in a future version. Use pandas.concat instead.\n",
      "  df = df.append(hour_data,ignore_index=True)\n",
      "/Volumes/SanDisk/opt/anaconda3/envs/python_3_8/lib/python3.8/site-packages/forest/poplar/legacy/common_funcs.py:136: FutureWarning: The frame.append method is deprecated and will be removed from pandas in a future version. Use pandas.concat instead.\n",
      "  df = df.append(hour_data,ignore_index=True)\n",
      "/Volumes/SanDisk/opt/anaconda3/envs/python_3_8/lib/python3.8/site-packages/forest/poplar/legacy/common_funcs.py:136: FutureWarning: The frame.append method is deprecated and will be removed from pandas in a future version. Use pandas.concat instead.\n",
      "  df = df.append(hour_data,ignore_index=True)\n",
      "/Volumes/SanDisk/opt/anaconda3/envs/python_3_8/lib/python3.8/site-packages/forest/poplar/legacy/common_funcs.py:136: FutureWarning: The frame.append method is deprecated and will be removed from pandas in a future version. Use pandas.concat instead.\n",
      "  df = df.append(hour_data,ignore_index=True)\n",
      "/Volumes/SanDisk/opt/anaconda3/envs/python_3_8/lib/python3.8/site-packages/forest/poplar/legacy/common_funcs.py:136: FutureWarning: The frame.append method is deprecated and will be removed from pandas in a future version. Use pandas.concat instead.\n",
      "  df = df.append(hour_data,ignore_index=True)\n",
      "/Volumes/SanDisk/opt/anaconda3/envs/python_3_8/lib/python3.8/site-packages/forest/poplar/legacy/common_funcs.py:136: FutureWarning: The frame.append method is deprecated and will be removed from pandas in a future version. Use pandas.concat instead.\n",
      "  df = df.append(hour_data,ignore_index=True)\n",
      "/Volumes/SanDisk/opt/anaconda3/envs/python_3_8/lib/python3.8/site-packages/forest/poplar/legacy/common_funcs.py:136: FutureWarning: The frame.append method is deprecated and will be removed from pandas in a future version. Use pandas.concat instead.\n",
      "  df = df.append(hour_data,ignore_index=True)\n",
      "/Volumes/SanDisk/opt/anaconda3/envs/python_3_8/lib/python3.8/site-packages/forest/poplar/legacy/common_funcs.py:136: FutureWarning: The frame.append method is deprecated and will be removed from pandas in a future version. Use pandas.concat instead.\n",
      "  df = df.append(hour_data,ignore_index=True)\n",
      "/Volumes/SanDisk/opt/anaconda3/envs/python_3_8/lib/python3.8/site-packages/forest/poplar/legacy/common_funcs.py:136: FutureWarning: The frame.append method is deprecated and will be removed from pandas in a future version. Use pandas.concat instead.\n",
      "  df = df.append(hour_data,ignore_index=True)\n",
      "/Volumes/SanDisk/opt/anaconda3/envs/python_3_8/lib/python3.8/site-packages/forest/poplar/legacy/common_funcs.py:136: FutureWarning: The frame.append method is deprecated and will be removed from pandas in a future version. Use pandas.concat instead.\n",
      "  df = df.append(hour_data,ignore_index=True)\n",
      "/Volumes/SanDisk/opt/anaconda3/envs/python_3_8/lib/python3.8/site-packages/forest/poplar/legacy/common_funcs.py:136: FutureWarning: The frame.append method is deprecated and will be removed from pandas in a future version. Use pandas.concat instead.\n",
      "  df = df.append(hour_data,ignore_index=True)\n",
      "/Volumes/SanDisk/opt/anaconda3/envs/python_3_8/lib/python3.8/site-packages/forest/poplar/legacy/common_funcs.py:136: FutureWarning: The frame.append method is deprecated and will be removed from pandas in a future version. Use pandas.concat instead.\n",
      "  df = df.append(hour_data,ignore_index=True)\n",
      "/Volumes/SanDisk/opt/anaconda3/envs/python_3_8/lib/python3.8/site-packages/forest/poplar/legacy/common_funcs.py:136: FutureWarning: The frame.append method is deprecated and will be removed from pandas in a future version. Use pandas.concat instead.\n",
      "  df = df.append(hour_data,ignore_index=True)\n",
      "/Volumes/SanDisk/opt/anaconda3/envs/python_3_8/lib/python3.8/site-packages/forest/poplar/legacy/common_funcs.py:136: FutureWarning: The frame.append method is deprecated and will be removed from pandas in a future version. Use pandas.concat instead.\n",
      "  df = df.append(hour_data,ignore_index=True)\n",
      "/Volumes/SanDisk/opt/anaconda3/envs/python_3_8/lib/python3.8/site-packages/forest/poplar/legacy/common_funcs.py:136: FutureWarning: The frame.append method is deprecated and will be removed from pandas in a future version. Use pandas.concat instead.\n",
      "  df = df.append(hour_data,ignore_index=True)\n",
      "/Volumes/SanDisk/opt/anaconda3/envs/python_3_8/lib/python3.8/site-packages/forest/poplar/legacy/common_funcs.py:136: FutureWarning: The frame.append method is deprecated and will be removed from pandas in a future version. Use pandas.concat instead.\n",
      "  df = df.append(hour_data,ignore_index=True)\n",
      "/Volumes/SanDisk/opt/anaconda3/envs/python_3_8/lib/python3.8/site-packages/forest/poplar/legacy/common_funcs.py:136: FutureWarning: The frame.append method is deprecated and will be removed from pandas in a future version. Use pandas.concat instead.\n",
      "  df = df.append(hour_data,ignore_index=True)\n",
      "/Volumes/SanDisk/opt/anaconda3/envs/python_3_8/lib/python3.8/site-packages/forest/poplar/legacy/common_funcs.py:136: FutureWarning: The frame.append method is deprecated and will be removed from pandas in a future version. Use pandas.concat instead.\n",
      "  df = df.append(hour_data,ignore_index=True)\n",
      "/Volumes/SanDisk/opt/anaconda3/envs/python_3_8/lib/python3.8/site-packages/forest/poplar/legacy/common_funcs.py:136: FutureWarning: The frame.append method is deprecated and will be removed from pandas in a future version. Use pandas.concat instead.\n",
      "  df = df.append(hour_data,ignore_index=True)\n",
      "/Volumes/SanDisk/opt/anaconda3/envs/python_3_8/lib/python3.8/site-packages/forest/poplar/legacy/common_funcs.py:136: FutureWarning: The frame.append method is deprecated and will be removed from pandas in a future version. Use pandas.concat instead.\n",
      "  df = df.append(hour_data,ignore_index=True)\n",
      "/Volumes/SanDisk/opt/anaconda3/envs/python_3_8/lib/python3.8/site-packages/forest/poplar/legacy/common_funcs.py:136: FutureWarning: The frame.append method is deprecated and will be removed from pandas in a future version. Use pandas.concat instead.\n",
      "  df = df.append(hour_data,ignore_index=True)\n",
      "/Volumes/SanDisk/opt/anaconda3/envs/python_3_8/lib/python3.8/site-packages/forest/poplar/legacy/common_funcs.py:136: FutureWarning: The frame.append method is deprecated and will be removed from pandas in a future version. Use pandas.concat instead.\n",
      "  df = df.append(hour_data,ignore_index=True)\n",
      "/Volumes/SanDisk/opt/anaconda3/envs/python_3_8/lib/python3.8/site-packages/forest/poplar/legacy/common_funcs.py:136: FutureWarning: The frame.append method is deprecated and will be removed from pandas in a future version. Use pandas.concat instead.\n",
      "  df = df.append(hour_data,ignore_index=True)\n",
      "/Volumes/SanDisk/opt/anaconda3/envs/python_3_8/lib/python3.8/site-packages/forest/poplar/legacy/common_funcs.py:136: FutureWarning: The frame.append method is deprecated and will be removed from pandas in a future version. Use pandas.concat instead.\n",
      "  df = df.append(hour_data,ignore_index=True)\n"
     ]
    },
    {
     "name": "stderr",
     "output_type": "stream",
     "text": [
      "/Volumes/SanDisk/opt/anaconda3/envs/python_3_8/lib/python3.8/site-packages/forest/poplar/legacy/common_funcs.py:136: FutureWarning: The frame.append method is deprecated and will be removed from pandas in a future version. Use pandas.concat instead.\n",
      "  df = df.append(hour_data,ignore_index=True)\n",
      "/Volumes/SanDisk/opt/anaconda3/envs/python_3_8/lib/python3.8/site-packages/forest/poplar/legacy/common_funcs.py:136: FutureWarning: The frame.append method is deprecated and will be removed from pandas in a future version. Use pandas.concat instead.\n",
      "  df = df.append(hour_data,ignore_index=True)\n",
      "/Volumes/SanDisk/opt/anaconda3/envs/python_3_8/lib/python3.8/site-packages/forest/poplar/legacy/common_funcs.py:136: FutureWarning: The frame.append method is deprecated and will be removed from pandas in a future version. Use pandas.concat instead.\n",
      "  df = df.append(hour_data,ignore_index=True)\n",
      "/Volumes/SanDisk/opt/anaconda3/envs/python_3_8/lib/python3.8/site-packages/forest/poplar/legacy/common_funcs.py:136: FutureWarning: The frame.append method is deprecated and will be removed from pandas in a future version. Use pandas.concat instead.\n",
      "  df = df.append(hour_data,ignore_index=True)\n",
      "/Volumes/SanDisk/opt/anaconda3/envs/python_3_8/lib/python3.8/site-packages/forest/poplar/legacy/common_funcs.py:136: FutureWarning: The frame.append method is deprecated and will be removed from pandas in a future version. Use pandas.concat instead.\n",
      "  df = df.append(hour_data,ignore_index=True)\n",
      "/Volumes/SanDisk/opt/anaconda3/envs/python_3_8/lib/python3.8/site-packages/forest/poplar/legacy/common_funcs.py:136: FutureWarning: The frame.append method is deprecated and will be removed from pandas in a future version. Use pandas.concat instead.\n",
      "  df = df.append(hour_data,ignore_index=True)\n",
      "/Volumes/SanDisk/opt/anaconda3/envs/python_3_8/lib/python3.8/site-packages/forest/poplar/legacy/common_funcs.py:136: FutureWarning: The frame.append method is deprecated and will be removed from pandas in a future version. Use pandas.concat instead.\n",
      "  df = df.append(hour_data,ignore_index=True)\n",
      "/Volumes/SanDisk/opt/anaconda3/envs/python_3_8/lib/python3.8/site-packages/forest/poplar/legacy/common_funcs.py:136: FutureWarning: The frame.append method is deprecated and will be removed from pandas in a future version. Use pandas.concat instead.\n",
      "  df = df.append(hour_data,ignore_index=True)\n",
      "/Volumes/SanDisk/opt/anaconda3/envs/python_3_8/lib/python3.8/site-packages/forest/poplar/legacy/common_funcs.py:136: FutureWarning: The frame.append method is deprecated and will be removed from pandas in a future version. Use pandas.concat instead.\n",
      "  df = df.append(hour_data,ignore_index=True)\n",
      "/Volumes/SanDisk/opt/anaconda3/envs/python_3_8/lib/python3.8/site-packages/forest/poplar/legacy/common_funcs.py:136: FutureWarning: The frame.append method is deprecated and will be removed from pandas in a future version. Use pandas.concat instead.\n",
      "  df = df.append(hour_data,ignore_index=True)\n",
      "/Volumes/SanDisk/opt/anaconda3/envs/python_3_8/lib/python3.8/site-packages/forest/poplar/legacy/common_funcs.py:136: FutureWarning: The frame.append method is deprecated and will be removed from pandas in a future version. Use pandas.concat instead.\n",
      "  df = df.append(hour_data,ignore_index=True)\n",
      "/Volumes/SanDisk/opt/anaconda3/envs/python_3_8/lib/python3.8/site-packages/forest/poplar/legacy/common_funcs.py:136: FutureWarning: The frame.append method is deprecated and will be removed from pandas in a future version. Use pandas.concat instead.\n",
      "  df = df.append(hour_data,ignore_index=True)\n",
      "/Volumes/SanDisk/opt/anaconda3/envs/python_3_8/lib/python3.8/site-packages/forest/poplar/legacy/common_funcs.py:136: FutureWarning: The frame.append method is deprecated and will be removed from pandas in a future version. Use pandas.concat instead.\n",
      "  df = df.append(hour_data,ignore_index=True)\n",
      "/Volumes/SanDisk/opt/anaconda3/envs/python_3_8/lib/python3.8/site-packages/forest/poplar/legacy/common_funcs.py:136: FutureWarning: The frame.append method is deprecated and will be removed from pandas in a future version. Use pandas.concat instead.\n",
      "  df = df.append(hour_data,ignore_index=True)\n",
      "/Volumes/SanDisk/opt/anaconda3/envs/python_3_8/lib/python3.8/site-packages/forest/poplar/legacy/common_funcs.py:136: FutureWarning: The frame.append method is deprecated and will be removed from pandas in a future version. Use pandas.concat instead.\n",
      "  df = df.append(hour_data,ignore_index=True)\n",
      "/Volumes/SanDisk/opt/anaconda3/envs/python_3_8/lib/python3.8/site-packages/forest/poplar/legacy/common_funcs.py:136: FutureWarning: The frame.append method is deprecated and will be removed from pandas in a future version. Use pandas.concat instead.\n",
      "  df = df.append(hour_data,ignore_index=True)\n",
      "/Volumes/SanDisk/opt/anaconda3/envs/python_3_8/lib/python3.8/site-packages/forest/poplar/legacy/common_funcs.py:136: FutureWarning: The frame.append method is deprecated and will be removed from pandas in a future version. Use pandas.concat instead.\n",
      "  df = df.append(hour_data,ignore_index=True)\n",
      "/Volumes/SanDisk/opt/anaconda3/envs/python_3_8/lib/python3.8/site-packages/forest/poplar/legacy/common_funcs.py:136: FutureWarning: The frame.append method is deprecated and will be removed from pandas in a future version. Use pandas.concat instead.\n",
      "  df = df.append(hour_data,ignore_index=True)\n",
      "/Volumes/SanDisk/opt/anaconda3/envs/python_3_8/lib/python3.8/site-packages/forest/poplar/legacy/common_funcs.py:136: FutureWarning: The frame.append method is deprecated and will be removed from pandas in a future version. Use pandas.concat instead.\n",
      "  df = df.append(hour_data,ignore_index=True)\n",
      "/Volumes/SanDisk/opt/anaconda3/envs/python_3_8/lib/python3.8/site-packages/forest/poplar/legacy/common_funcs.py:136: FutureWarning: The frame.append method is deprecated and will be removed from pandas in a future version. Use pandas.concat instead.\n",
      "  df = df.append(hour_data,ignore_index=True)\n",
      "/Volumes/SanDisk/opt/anaconda3/envs/python_3_8/lib/python3.8/site-packages/forest/poplar/legacy/common_funcs.py:136: FutureWarning: The frame.append method is deprecated and will be removed from pandas in a future version. Use pandas.concat instead.\n",
      "  df = df.append(hour_data,ignore_index=True)\n",
      "/Volumes/SanDisk/opt/anaconda3/envs/python_3_8/lib/python3.8/site-packages/forest/poplar/legacy/common_funcs.py:136: FutureWarning: The frame.append method is deprecated and will be removed from pandas in a future version. Use pandas.concat instead.\n",
      "  df = df.append(hour_data,ignore_index=True)\n",
      "/Volumes/SanDisk/opt/anaconda3/envs/python_3_8/lib/python3.8/site-packages/forest/poplar/legacy/common_funcs.py:136: FutureWarning: The frame.append method is deprecated and will be removed from pandas in a future version. Use pandas.concat instead.\n",
      "  df = df.append(hour_data,ignore_index=True)\n",
      "/Volumes/SanDisk/opt/anaconda3/envs/python_3_8/lib/python3.8/site-packages/forest/poplar/legacy/common_funcs.py:136: FutureWarning: The frame.append method is deprecated and will be removed from pandas in a future version. Use pandas.concat instead.\n",
      "  df = df.append(hour_data,ignore_index=True)\n",
      "/Volumes/SanDisk/opt/anaconda3/envs/python_3_8/lib/python3.8/site-packages/forest/poplar/legacy/common_funcs.py:136: FutureWarning: The frame.append method is deprecated and will be removed from pandas in a future version. Use pandas.concat instead.\n",
      "  df = df.append(hour_data,ignore_index=True)\n",
      "/Volumes/SanDisk/opt/anaconda3/envs/python_3_8/lib/python3.8/site-packages/forest/poplar/legacy/common_funcs.py:136: FutureWarning: The frame.append method is deprecated and will be removed from pandas in a future version. Use pandas.concat instead.\n",
      "  df = df.append(hour_data,ignore_index=True)\n",
      "/Volumes/SanDisk/opt/anaconda3/envs/python_3_8/lib/python3.8/site-packages/forest/poplar/legacy/common_funcs.py:136: FutureWarning: The frame.append method is deprecated and will be removed from pandas in a future version. Use pandas.concat instead.\n",
      "  df = df.append(hour_data,ignore_index=True)\n",
      "/Volumes/SanDisk/opt/anaconda3/envs/python_3_8/lib/python3.8/site-packages/forest/poplar/legacy/common_funcs.py:136: FutureWarning: The frame.append method is deprecated and will be removed from pandas in a future version. Use pandas.concat instead.\n",
      "  df = df.append(hour_data,ignore_index=True)\n",
      "/Volumes/SanDisk/opt/anaconda3/envs/python_3_8/lib/python3.8/site-packages/forest/poplar/legacy/common_funcs.py:136: FutureWarning: The frame.append method is deprecated and will be removed from pandas in a future version. Use pandas.concat instead.\n",
      "  df = df.append(hour_data,ignore_index=True)\n",
      "/Volumes/SanDisk/opt/anaconda3/envs/python_3_8/lib/python3.8/site-packages/forest/poplar/legacy/common_funcs.py:136: FutureWarning: The frame.append method is deprecated and will be removed from pandas in a future version. Use pandas.concat instead.\n",
      "  df = df.append(hour_data,ignore_index=True)\n",
      "/Volumes/SanDisk/opt/anaconda3/envs/python_3_8/lib/python3.8/site-packages/forest/poplar/legacy/common_funcs.py:136: FutureWarning: The frame.append method is deprecated and will be removed from pandas in a future version. Use pandas.concat instead.\n",
      "  df = df.append(hour_data,ignore_index=True)\n",
      "/Volumes/SanDisk/opt/anaconda3/envs/python_3_8/lib/python3.8/site-packages/forest/poplar/legacy/common_funcs.py:136: FutureWarning: The frame.append method is deprecated and will be removed from pandas in a future version. Use pandas.concat instead.\n",
      "  df = df.append(hour_data,ignore_index=True)\n"
     ]
    },
    {
     "name": "stderr",
     "output_type": "stream",
     "text": [
      "/Volumes/SanDisk/opt/anaconda3/envs/python_3_8/lib/python3.8/site-packages/forest/poplar/legacy/common_funcs.py:136: FutureWarning: The frame.append method is deprecated and will be removed from pandas in a future version. Use pandas.concat instead.\n",
      "  df = df.append(hour_data,ignore_index=True)\n",
      "/Volumes/SanDisk/opt/anaconda3/envs/python_3_8/lib/python3.8/site-packages/forest/poplar/legacy/common_funcs.py:136: FutureWarning: The frame.append method is deprecated and will be removed from pandas in a future version. Use pandas.concat instead.\n",
      "  df = df.append(hour_data,ignore_index=True)\n",
      "/Volumes/SanDisk/opt/anaconda3/envs/python_3_8/lib/python3.8/site-packages/forest/poplar/legacy/common_funcs.py:136: FutureWarning: The frame.append method is deprecated and will be removed from pandas in a future version. Use pandas.concat instead.\n",
      "  df = df.append(hour_data,ignore_index=True)\n",
      "/Volumes/SanDisk/opt/anaconda3/envs/python_3_8/lib/python3.8/site-packages/forest/poplar/legacy/common_funcs.py:136: FutureWarning: The frame.append method is deprecated and will be removed from pandas in a future version. Use pandas.concat instead.\n",
      "  df = df.append(hour_data,ignore_index=True)\n",
      "/Volumes/SanDisk/opt/anaconda3/envs/python_3_8/lib/python3.8/site-packages/forest/poplar/legacy/common_funcs.py:136: FutureWarning: The frame.append method is deprecated and will be removed from pandas in a future version. Use pandas.concat instead.\n",
      "  df = df.append(hour_data,ignore_index=True)\n",
      "/Volumes/SanDisk/opt/anaconda3/envs/python_3_8/lib/python3.8/site-packages/forest/poplar/legacy/common_funcs.py:136: FutureWarning: The frame.append method is deprecated and will be removed from pandas in a future version. Use pandas.concat instead.\n",
      "  df = df.append(hour_data,ignore_index=True)\n",
      "/Volumes/SanDisk/opt/anaconda3/envs/python_3_8/lib/python3.8/site-packages/forest/poplar/legacy/common_funcs.py:136: FutureWarning: The frame.append method is deprecated and will be removed from pandas in a future version. Use pandas.concat instead.\n",
      "  df = df.append(hour_data,ignore_index=True)\n",
      "/Volumes/SanDisk/opt/anaconda3/envs/python_3_8/lib/python3.8/site-packages/forest/poplar/legacy/common_funcs.py:136: FutureWarning: The frame.append method is deprecated and will be removed from pandas in a future version. Use pandas.concat instead.\n",
      "  df = df.append(hour_data,ignore_index=True)\n",
      "/Volumes/SanDisk/opt/anaconda3/envs/python_3_8/lib/python3.8/site-packages/forest/poplar/legacy/common_funcs.py:136: FutureWarning: The frame.append method is deprecated and will be removed from pandas in a future version. Use pandas.concat instead.\n",
      "  df = df.append(hour_data,ignore_index=True)\n",
      "/Volumes/SanDisk/opt/anaconda3/envs/python_3_8/lib/python3.8/site-packages/forest/poplar/legacy/common_funcs.py:136: FutureWarning: The frame.append method is deprecated and will be removed from pandas in a future version. Use pandas.concat instead.\n",
      "  df = df.append(hour_data,ignore_index=True)\n",
      "/Volumes/SanDisk/opt/anaconda3/envs/python_3_8/lib/python3.8/site-packages/forest/poplar/legacy/common_funcs.py:136: FutureWarning: The frame.append method is deprecated and will be removed from pandas in a future version. Use pandas.concat instead.\n",
      "  df = df.append(hour_data,ignore_index=True)\n",
      "/Volumes/SanDisk/opt/anaconda3/envs/python_3_8/lib/python3.8/site-packages/forest/poplar/legacy/common_funcs.py:136: FutureWarning: The frame.append method is deprecated and will be removed from pandas in a future version. Use pandas.concat instead.\n",
      "  df = df.append(hour_data,ignore_index=True)\n",
      "/Volumes/SanDisk/opt/anaconda3/envs/python_3_8/lib/python3.8/site-packages/forest/poplar/legacy/common_funcs.py:136: FutureWarning: The frame.append method is deprecated and will be removed from pandas in a future version. Use pandas.concat instead.\n",
      "  df = df.append(hour_data,ignore_index=True)\n",
      "/Volumes/SanDisk/opt/anaconda3/envs/python_3_8/lib/python3.8/site-packages/forest/poplar/legacy/common_funcs.py:136: FutureWarning: The frame.append method is deprecated and will be removed from pandas in a future version. Use pandas.concat instead.\n",
      "  df = df.append(hour_data,ignore_index=True)\n",
      "/Volumes/SanDisk/opt/anaconda3/envs/python_3_8/lib/python3.8/site-packages/forest/poplar/legacy/common_funcs.py:136: FutureWarning: The frame.append method is deprecated and will be removed from pandas in a future version. Use pandas.concat instead.\n",
      "  df = df.append(hour_data,ignore_index=True)\n",
      "/Volumes/SanDisk/opt/anaconda3/envs/python_3_8/lib/python3.8/site-packages/forest/poplar/legacy/common_funcs.py:136: FutureWarning: The frame.append method is deprecated and will be removed from pandas in a future version. Use pandas.concat instead.\n",
      "  df = df.append(hour_data,ignore_index=True)\n",
      "/Volumes/SanDisk/opt/anaconda3/envs/python_3_8/lib/python3.8/site-packages/forest/poplar/legacy/common_funcs.py:136: FutureWarning: The frame.append method is deprecated and will be removed from pandas in a future version. Use pandas.concat instead.\n",
      "  df = df.append(hour_data,ignore_index=True)\n",
      "/Volumes/SanDisk/opt/anaconda3/envs/python_3_8/lib/python3.8/site-packages/forest/poplar/legacy/common_funcs.py:136: FutureWarning: The frame.append method is deprecated and will be removed from pandas in a future version. Use pandas.concat instead.\n",
      "  df = df.append(hour_data,ignore_index=True)\n",
      "/Volumes/SanDisk/opt/anaconda3/envs/python_3_8/lib/python3.8/site-packages/forest/poplar/legacy/common_funcs.py:136: FutureWarning: The frame.append method is deprecated and will be removed from pandas in a future version. Use pandas.concat instead.\n",
      "  df = df.append(hour_data,ignore_index=True)\n",
      "/Volumes/SanDisk/opt/anaconda3/envs/python_3_8/lib/python3.8/site-packages/forest/poplar/legacy/common_funcs.py:136: FutureWarning: The frame.append method is deprecated and will be removed from pandas in a future version. Use pandas.concat instead.\n",
      "  df = df.append(hour_data,ignore_index=True)\n",
      "/Volumes/SanDisk/opt/anaconda3/envs/python_3_8/lib/python3.8/site-packages/forest/poplar/legacy/common_funcs.py:136: FutureWarning: The frame.append method is deprecated and will be removed from pandas in a future version. Use pandas.concat instead.\n",
      "  df = df.append(hour_data,ignore_index=True)\n",
      "/Volumes/SanDisk/opt/anaconda3/envs/python_3_8/lib/python3.8/site-packages/forest/poplar/legacy/common_funcs.py:136: FutureWarning: The frame.append method is deprecated and will be removed from pandas in a future version. Use pandas.concat instead.\n",
      "  df = df.append(hour_data,ignore_index=True)\n",
      "/Volumes/SanDisk/opt/anaconda3/envs/python_3_8/lib/python3.8/site-packages/forest/poplar/legacy/common_funcs.py:136: FutureWarning: The frame.append method is deprecated and will be removed from pandas in a future version. Use pandas.concat instead.\n",
      "  df = df.append(hour_data,ignore_index=True)\n",
      "/Volumes/SanDisk/opt/anaconda3/envs/python_3_8/lib/python3.8/site-packages/forest/poplar/legacy/common_funcs.py:136: FutureWarning: The frame.append method is deprecated and will be removed from pandas in a future version. Use pandas.concat instead.\n",
      "  df = df.append(hour_data,ignore_index=True)\n",
      "/Volumes/SanDisk/opt/anaconda3/envs/python_3_8/lib/python3.8/site-packages/forest/poplar/legacy/common_funcs.py:136: FutureWarning: The frame.append method is deprecated and will be removed from pandas in a future version. Use pandas.concat instead.\n",
      "  df = df.append(hour_data,ignore_index=True)\n",
      "/Volumes/SanDisk/opt/anaconda3/envs/python_3_8/lib/python3.8/site-packages/forest/poplar/legacy/common_funcs.py:136: FutureWarning: The frame.append method is deprecated and will be removed from pandas in a future version. Use pandas.concat instead.\n",
      "  df = df.append(hour_data,ignore_index=True)\n",
      "/Volumes/SanDisk/opt/anaconda3/envs/python_3_8/lib/python3.8/site-packages/forest/poplar/legacy/common_funcs.py:136: FutureWarning: The frame.append method is deprecated and will be removed from pandas in a future version. Use pandas.concat instead.\n",
      "  df = df.append(hour_data,ignore_index=True)\n",
      "/Volumes/SanDisk/opt/anaconda3/envs/python_3_8/lib/python3.8/site-packages/forest/poplar/legacy/common_funcs.py:136: FutureWarning: The frame.append method is deprecated and will be removed from pandas in a future version. Use pandas.concat instead.\n",
      "  df = df.append(hour_data,ignore_index=True)\n"
     ]
    },
    {
     "name": "stderr",
     "output_type": "stream",
     "text": [
      "/Volumes/SanDisk/opt/anaconda3/envs/python_3_8/lib/python3.8/site-packages/forest/poplar/legacy/common_funcs.py:136: FutureWarning: The frame.append method is deprecated and will be removed from pandas in a future version. Use pandas.concat instead.\n",
      "  df = df.append(hour_data,ignore_index=True)\n",
      "/Volumes/SanDisk/opt/anaconda3/envs/python_3_8/lib/python3.8/site-packages/forest/poplar/legacy/common_funcs.py:136: FutureWarning: The frame.append method is deprecated and will be removed from pandas in a future version. Use pandas.concat instead.\n",
      "  df = df.append(hour_data,ignore_index=True)\n",
      "/Volumes/SanDisk/opt/anaconda3/envs/python_3_8/lib/python3.8/site-packages/forest/poplar/legacy/common_funcs.py:136: FutureWarning: The frame.append method is deprecated and will be removed from pandas in a future version. Use pandas.concat instead.\n",
      "  df = df.append(hour_data,ignore_index=True)\n",
      "/Volumes/SanDisk/opt/anaconda3/envs/python_3_8/lib/python3.8/site-packages/forest/poplar/legacy/common_funcs.py:136: FutureWarning: The frame.append method is deprecated and will be removed from pandas in a future version. Use pandas.concat instead.\n",
      "  df = df.append(hour_data,ignore_index=True)\n",
      "/Volumes/SanDisk/opt/anaconda3/envs/python_3_8/lib/python3.8/site-packages/forest/poplar/legacy/common_funcs.py:136: FutureWarning: The frame.append method is deprecated and will be removed from pandas in a future version. Use pandas.concat instead.\n",
      "  df = df.append(hour_data,ignore_index=True)\n",
      "/Volumes/SanDisk/opt/anaconda3/envs/python_3_8/lib/python3.8/site-packages/forest/poplar/legacy/common_funcs.py:136: FutureWarning: The frame.append method is deprecated and will be removed from pandas in a future version. Use pandas.concat instead.\n",
      "  df = df.append(hour_data,ignore_index=True)\n",
      "/Volumes/SanDisk/opt/anaconda3/envs/python_3_8/lib/python3.8/site-packages/forest/poplar/legacy/common_funcs.py:136: FutureWarning: The frame.append method is deprecated and will be removed from pandas in a future version. Use pandas.concat instead.\n",
      "  df = df.append(hour_data,ignore_index=True)\n",
      "/Volumes/SanDisk/opt/anaconda3/envs/python_3_8/lib/python3.8/site-packages/forest/poplar/legacy/common_funcs.py:136: FutureWarning: The frame.append method is deprecated and will be removed from pandas in a future version. Use pandas.concat instead.\n",
      "  df = df.append(hour_data,ignore_index=True)\n",
      "/Volumes/SanDisk/opt/anaconda3/envs/python_3_8/lib/python3.8/site-packages/forest/poplar/legacy/common_funcs.py:136: FutureWarning: The frame.append method is deprecated and will be removed from pandas in a future version. Use pandas.concat instead.\n",
      "  df = df.append(hour_data,ignore_index=True)\n",
      "/Volumes/SanDisk/opt/anaconda3/envs/python_3_8/lib/python3.8/site-packages/forest/poplar/legacy/common_funcs.py:136: FutureWarning: The frame.append method is deprecated and will be removed from pandas in a future version. Use pandas.concat instead.\n",
      "  df = df.append(hour_data,ignore_index=True)\n",
      "/Volumes/SanDisk/opt/anaconda3/envs/python_3_8/lib/python3.8/site-packages/forest/poplar/legacy/common_funcs.py:136: FutureWarning: The frame.append method is deprecated and will be removed from pandas in a future version. Use pandas.concat instead.\n",
      "  df = df.append(hour_data,ignore_index=True)\n",
      "/Volumes/SanDisk/opt/anaconda3/envs/python_3_8/lib/python3.8/site-packages/forest/poplar/legacy/common_funcs.py:136: FutureWarning: The frame.append method is deprecated and will be removed from pandas in a future version. Use pandas.concat instead.\n",
      "  df = df.append(hour_data,ignore_index=True)\n",
      "/Volumes/SanDisk/opt/anaconda3/envs/python_3_8/lib/python3.8/site-packages/forest/poplar/legacy/common_funcs.py:136: FutureWarning: The frame.append method is deprecated and will be removed from pandas in a future version. Use pandas.concat instead.\n",
      "  df = df.append(hour_data,ignore_index=True)\n",
      "/Volumes/SanDisk/opt/anaconda3/envs/python_3_8/lib/python3.8/site-packages/forest/poplar/legacy/common_funcs.py:136: FutureWarning: The frame.append method is deprecated and will be removed from pandas in a future version. Use pandas.concat instead.\n",
      "  df = df.append(hour_data,ignore_index=True)\n",
      "/Volumes/SanDisk/opt/anaconda3/envs/python_3_8/lib/python3.8/site-packages/forest/poplar/legacy/common_funcs.py:136: FutureWarning: The frame.append method is deprecated and will be removed from pandas in a future version. Use pandas.concat instead.\n",
      "  df = df.append(hour_data,ignore_index=True)\n",
      "/Volumes/SanDisk/opt/anaconda3/envs/python_3_8/lib/python3.8/site-packages/forest/poplar/legacy/common_funcs.py:136: FutureWarning: The frame.append method is deprecated and will be removed from pandas in a future version. Use pandas.concat instead.\n",
      "  df = df.append(hour_data,ignore_index=True)\n",
      "/Volumes/SanDisk/opt/anaconda3/envs/python_3_8/lib/python3.8/site-packages/forest/poplar/legacy/common_funcs.py:136: FutureWarning: The frame.append method is deprecated and will be removed from pandas in a future version. Use pandas.concat instead.\n",
      "  df = df.append(hour_data,ignore_index=True)\n",
      "/Volumes/SanDisk/opt/anaconda3/envs/python_3_8/lib/python3.8/site-packages/forest/poplar/legacy/common_funcs.py:136: FutureWarning: The frame.append method is deprecated and will be removed from pandas in a future version. Use pandas.concat instead.\n",
      "  df = df.append(hour_data,ignore_index=True)\n",
      "/Volumes/SanDisk/opt/anaconda3/envs/python_3_8/lib/python3.8/site-packages/forest/poplar/legacy/common_funcs.py:136: FutureWarning: The frame.append method is deprecated and will be removed from pandas in a future version. Use pandas.concat instead.\n",
      "  df = df.append(hour_data,ignore_index=True)\n",
      "/Volumes/SanDisk/opt/anaconda3/envs/python_3_8/lib/python3.8/site-packages/forest/poplar/legacy/common_funcs.py:136: FutureWarning: The frame.append method is deprecated and will be removed from pandas in a future version. Use pandas.concat instead.\n",
      "  df = df.append(hour_data,ignore_index=True)\n",
      "/Volumes/SanDisk/opt/anaconda3/envs/python_3_8/lib/python3.8/site-packages/forest/poplar/legacy/common_funcs.py:136: FutureWarning: The frame.append method is deprecated and will be removed from pandas in a future version. Use pandas.concat instead.\n",
      "  df = df.append(hour_data,ignore_index=True)\n",
      "/Volumes/SanDisk/opt/anaconda3/envs/python_3_8/lib/python3.8/site-packages/forest/poplar/legacy/common_funcs.py:136: FutureWarning: The frame.append method is deprecated and will be removed from pandas in a future version. Use pandas.concat instead.\n",
      "  df = df.append(hour_data,ignore_index=True)\n",
      "/Volumes/SanDisk/opt/anaconda3/envs/python_3_8/lib/python3.8/site-packages/forest/poplar/legacy/common_funcs.py:136: FutureWarning: The frame.append method is deprecated and will be removed from pandas in a future version. Use pandas.concat instead.\n",
      "  df = df.append(hour_data,ignore_index=True)\n",
      "/Volumes/SanDisk/opt/anaconda3/envs/python_3_8/lib/python3.8/site-packages/forest/poplar/legacy/common_funcs.py:136: FutureWarning: The frame.append method is deprecated and will be removed from pandas in a future version. Use pandas.concat instead.\n",
      "  df = df.append(hour_data,ignore_index=True)\n",
      "/Volumes/SanDisk/opt/anaconda3/envs/python_3_8/lib/python3.8/site-packages/forest/poplar/legacy/common_funcs.py:136: FutureWarning: The frame.append method is deprecated and will be removed from pandas in a future version. Use pandas.concat instead.\n",
      "  df = df.append(hour_data,ignore_index=True)\n",
      "/Volumes/SanDisk/opt/anaconda3/envs/python_3_8/lib/python3.8/site-packages/forest/poplar/legacy/common_funcs.py:136: FutureWarning: The frame.append method is deprecated and will be removed from pandas in a future version. Use pandas.concat instead.\n",
      "  df = df.append(hour_data,ignore_index=True)\n",
      "/Volumes/SanDisk/opt/anaconda3/envs/python_3_8/lib/python3.8/site-packages/forest/poplar/legacy/common_funcs.py:136: FutureWarning: The frame.append method is deprecated and will be removed from pandas in a future version. Use pandas.concat instead.\n",
      "  df = df.append(hour_data,ignore_index=True)\n",
      "/Volumes/SanDisk/opt/anaconda3/envs/python_3_8/lib/python3.8/site-packages/forest/poplar/legacy/common_funcs.py:136: FutureWarning: The frame.append method is deprecated and will be removed from pandas in a future version. Use pandas.concat instead.\n",
      "  df = df.append(hour_data,ignore_index=True)\n",
      "/Volumes/SanDisk/opt/anaconda3/envs/python_3_8/lib/python3.8/site-packages/forest/poplar/legacy/common_funcs.py:136: FutureWarning: The frame.append method is deprecated and will be removed from pandas in a future version. Use pandas.concat instead.\n",
      "  df = df.append(hour_data,ignore_index=True)\n",
      "/Volumes/SanDisk/opt/anaconda3/envs/python_3_8/lib/python3.8/site-packages/forest/poplar/legacy/common_funcs.py:136: FutureWarning: The frame.append method is deprecated and will be removed from pandas in a future version. Use pandas.concat instead.\n",
      "  df = df.append(hour_data,ignore_index=True)\n"
     ]
    },
    {
     "name": "stderr",
     "output_type": "stream",
     "text": [
      "/Volumes/SanDisk/opt/anaconda3/envs/python_3_8/lib/python3.8/site-packages/forest/poplar/legacy/common_funcs.py:136: FutureWarning: The frame.append method is deprecated and will be removed from pandas in a future version. Use pandas.concat instead.\n",
      "  df = df.append(hour_data,ignore_index=True)\n",
      "/Volumes/SanDisk/opt/anaconda3/envs/python_3_8/lib/python3.8/site-packages/forest/poplar/legacy/common_funcs.py:136: FutureWarning: The frame.append method is deprecated and will be removed from pandas in a future version. Use pandas.concat instead.\n",
      "  df = df.append(hour_data,ignore_index=True)\n",
      "/Volumes/SanDisk/opt/anaconda3/envs/python_3_8/lib/python3.8/site-packages/forest/poplar/legacy/common_funcs.py:136: FutureWarning: The frame.append method is deprecated and will be removed from pandas in a future version. Use pandas.concat instead.\n",
      "  df = df.append(hour_data,ignore_index=True)\n",
      "/Volumes/SanDisk/opt/anaconda3/envs/python_3_8/lib/python3.8/site-packages/forest/poplar/legacy/common_funcs.py:136: FutureWarning: The frame.append method is deprecated and will be removed from pandas in a future version. Use pandas.concat instead.\n",
      "  df = df.append(hour_data,ignore_index=True)\n",
      "/Volumes/SanDisk/opt/anaconda3/envs/python_3_8/lib/python3.8/site-packages/forest/poplar/legacy/common_funcs.py:136: FutureWarning: The frame.append method is deprecated and will be removed from pandas in a future version. Use pandas.concat instead.\n",
      "  df = df.append(hour_data,ignore_index=True)\n",
      "/Volumes/SanDisk/opt/anaconda3/envs/python_3_8/lib/python3.8/site-packages/forest/poplar/legacy/common_funcs.py:136: FutureWarning: The frame.append method is deprecated and will be removed from pandas in a future version. Use pandas.concat instead.\n",
      "  df = df.append(hour_data,ignore_index=True)\n",
      "/Volumes/SanDisk/opt/anaconda3/envs/python_3_8/lib/python3.8/site-packages/forest/poplar/legacy/common_funcs.py:136: FutureWarning: The frame.append method is deprecated and will be removed from pandas in a future version. Use pandas.concat instead.\n",
      "  df = df.append(hour_data,ignore_index=True)\n",
      "/Volumes/SanDisk/opt/anaconda3/envs/python_3_8/lib/python3.8/site-packages/forest/poplar/legacy/common_funcs.py:136: FutureWarning: The frame.append method is deprecated and will be removed from pandas in a future version. Use pandas.concat instead.\n",
      "  df = df.append(hour_data,ignore_index=True)\n",
      "/Volumes/SanDisk/opt/anaconda3/envs/python_3_8/lib/python3.8/site-packages/forest/poplar/legacy/common_funcs.py:136: FutureWarning: The frame.append method is deprecated and will be removed from pandas in a future version. Use pandas.concat instead.\n",
      "  df = df.append(hour_data,ignore_index=True)\n",
      "/Volumes/SanDisk/opt/anaconda3/envs/python_3_8/lib/python3.8/site-packages/forest/poplar/legacy/common_funcs.py:136: FutureWarning: The frame.append method is deprecated and will be removed from pandas in a future version. Use pandas.concat instead.\n",
      "  df = df.append(hour_data,ignore_index=True)\n",
      "/Volumes/SanDisk/opt/anaconda3/envs/python_3_8/lib/python3.8/site-packages/forest/poplar/legacy/common_funcs.py:136: FutureWarning: The frame.append method is deprecated and will be removed from pandas in a future version. Use pandas.concat instead.\n",
      "  df = df.append(hour_data,ignore_index=True)\n",
      "/Volumes/SanDisk/opt/anaconda3/envs/python_3_8/lib/python3.8/site-packages/forest/poplar/legacy/common_funcs.py:136: FutureWarning: The frame.append method is deprecated and will be removed from pandas in a future version. Use pandas.concat instead.\n",
      "  df = df.append(hour_data,ignore_index=True)\n",
      "/Volumes/SanDisk/opt/anaconda3/envs/python_3_8/lib/python3.8/site-packages/forest/poplar/legacy/common_funcs.py:136: FutureWarning: The frame.append method is deprecated and will be removed from pandas in a future version. Use pandas.concat instead.\n",
      "  df = df.append(hour_data,ignore_index=True)\n",
      "/Volumes/SanDisk/opt/anaconda3/envs/python_3_8/lib/python3.8/site-packages/forest/poplar/legacy/common_funcs.py:136: FutureWarning: The frame.append method is deprecated and will be removed from pandas in a future version. Use pandas.concat instead.\n",
      "  df = df.append(hour_data,ignore_index=True)\n",
      "/Volumes/SanDisk/opt/anaconda3/envs/python_3_8/lib/python3.8/site-packages/forest/poplar/legacy/common_funcs.py:136: FutureWarning: The frame.append method is deprecated and will be removed from pandas in a future version. Use pandas.concat instead.\n",
      "  df = df.append(hour_data,ignore_index=True)\n",
      "/Volumes/SanDisk/opt/anaconda3/envs/python_3_8/lib/python3.8/site-packages/forest/poplar/legacy/common_funcs.py:136: FutureWarning: The frame.append method is deprecated and will be removed from pandas in a future version. Use pandas.concat instead.\n",
      "  df = df.append(hour_data,ignore_index=True)\n",
      "/Volumes/SanDisk/opt/anaconda3/envs/python_3_8/lib/python3.8/site-packages/forest/poplar/legacy/common_funcs.py:136: FutureWarning: The frame.append method is deprecated and will be removed from pandas in a future version. Use pandas.concat instead.\n",
      "  df = df.append(hour_data,ignore_index=True)\n",
      "/Volumes/SanDisk/opt/anaconda3/envs/python_3_8/lib/python3.8/site-packages/forest/poplar/legacy/common_funcs.py:136: FutureWarning: The frame.append method is deprecated and will be removed from pandas in a future version. Use pandas.concat instead.\n",
      "  df = df.append(hour_data,ignore_index=True)\n",
      "/Volumes/SanDisk/opt/anaconda3/envs/python_3_8/lib/python3.8/site-packages/forest/poplar/legacy/common_funcs.py:136: FutureWarning: The frame.append method is deprecated and will be removed from pandas in a future version. Use pandas.concat instead.\n",
      "  df = df.append(hour_data,ignore_index=True)\n",
      "/Volumes/SanDisk/opt/anaconda3/envs/python_3_8/lib/python3.8/site-packages/forest/poplar/legacy/common_funcs.py:136: FutureWarning: The frame.append method is deprecated and will be removed from pandas in a future version. Use pandas.concat instead.\n",
      "  df = df.append(hour_data,ignore_index=True)\n",
      "/Volumes/SanDisk/opt/anaconda3/envs/python_3_8/lib/python3.8/site-packages/forest/poplar/legacy/common_funcs.py:136: FutureWarning: The frame.append method is deprecated and will be removed from pandas in a future version. Use pandas.concat instead.\n",
      "  df = df.append(hour_data,ignore_index=True)\n",
      "/Volumes/SanDisk/opt/anaconda3/envs/python_3_8/lib/python3.8/site-packages/forest/poplar/legacy/common_funcs.py:136: FutureWarning: The frame.append method is deprecated and will be removed from pandas in a future version. Use pandas.concat instead.\n",
      "  df = df.append(hour_data,ignore_index=True)\n",
      "/Volumes/SanDisk/opt/anaconda3/envs/python_3_8/lib/python3.8/site-packages/forest/poplar/legacy/common_funcs.py:136: FutureWarning: The frame.append method is deprecated and will be removed from pandas in a future version. Use pandas.concat instead.\n",
      "  df = df.append(hour_data,ignore_index=True)\n",
      "/Volumes/SanDisk/opt/anaconda3/envs/python_3_8/lib/python3.8/site-packages/forest/poplar/legacy/common_funcs.py:136: FutureWarning: The frame.append method is deprecated and will be removed from pandas in a future version. Use pandas.concat instead.\n",
      "  df = df.append(hour_data,ignore_index=True)\n",
      "/Volumes/SanDisk/opt/anaconda3/envs/python_3_8/lib/python3.8/site-packages/forest/poplar/legacy/common_funcs.py:136: FutureWarning: The frame.append method is deprecated and will be removed from pandas in a future version. Use pandas.concat instead.\n",
      "  df = df.append(hour_data,ignore_index=True)\n",
      "/Volumes/SanDisk/opt/anaconda3/envs/python_3_8/lib/python3.8/site-packages/forest/poplar/legacy/common_funcs.py:136: FutureWarning: The frame.append method is deprecated and will be removed from pandas in a future version. Use pandas.concat instead.\n",
      "  df = df.append(hour_data,ignore_index=True)\n",
      "/Volumes/SanDisk/opt/anaconda3/envs/python_3_8/lib/python3.8/site-packages/forest/poplar/legacy/common_funcs.py:136: FutureWarning: The frame.append method is deprecated and will be removed from pandas in a future version. Use pandas.concat instead.\n",
      "  df = df.append(hour_data,ignore_index=True)\n",
      "/Volumes/SanDisk/opt/anaconda3/envs/python_3_8/lib/python3.8/site-packages/forest/poplar/legacy/common_funcs.py:136: FutureWarning: The frame.append method is deprecated and will be removed from pandas in a future version. Use pandas.concat instead.\n",
      "  df = df.append(hour_data,ignore_index=True)\n",
      "/Volumes/SanDisk/opt/anaconda3/envs/python_3_8/lib/python3.8/site-packages/forest/poplar/legacy/common_funcs.py:136: FutureWarning: The frame.append method is deprecated and will be removed from pandas in a future version. Use pandas.concat instead.\n",
      "  df = df.append(hour_data,ignore_index=True)\n",
      "/Volumes/SanDisk/opt/anaconda3/envs/python_3_8/lib/python3.8/site-packages/forest/poplar/legacy/common_funcs.py:136: FutureWarning: The frame.append method is deprecated and will be removed from pandas in a future version. Use pandas.concat instead.\n",
      "  df = df.append(hour_data,ignore_index=True)\n",
      "/Volumes/SanDisk/opt/anaconda3/envs/python_3_8/lib/python3.8/site-packages/forest/poplar/legacy/common_funcs.py:136: FutureWarning: The frame.append method is deprecated and will be removed from pandas in a future version. Use pandas.concat instead.\n",
      "  df = df.append(hour_data,ignore_index=True)\n"
     ]
    },
    {
     "name": "stderr",
     "output_type": "stream",
     "text": [
      "/Volumes/SanDisk/opt/anaconda3/envs/python_3_8/lib/python3.8/site-packages/forest/poplar/legacy/common_funcs.py:136: FutureWarning: The frame.append method is deprecated and will be removed from pandas in a future version. Use pandas.concat instead.\n",
      "  df = df.append(hour_data,ignore_index=True)\n",
      "/Volumes/SanDisk/opt/anaconda3/envs/python_3_8/lib/python3.8/site-packages/forest/poplar/legacy/common_funcs.py:136: FutureWarning: The frame.append method is deprecated and will be removed from pandas in a future version. Use pandas.concat instead.\n",
      "  df = df.append(hour_data,ignore_index=True)\n",
      "/Volumes/SanDisk/opt/anaconda3/envs/python_3_8/lib/python3.8/site-packages/forest/poplar/legacy/common_funcs.py:136: FutureWarning: The frame.append method is deprecated and will be removed from pandas in a future version. Use pandas.concat instead.\n",
      "  df = df.append(hour_data,ignore_index=True)\n",
      "/Volumes/SanDisk/opt/anaconda3/envs/python_3_8/lib/python3.8/site-packages/forest/poplar/legacy/common_funcs.py:136: FutureWarning: The frame.append method is deprecated and will be removed from pandas in a future version. Use pandas.concat instead.\n",
      "  df = df.append(hour_data,ignore_index=True)\n",
      "/Volumes/SanDisk/opt/anaconda3/envs/python_3_8/lib/python3.8/site-packages/forest/poplar/legacy/common_funcs.py:136: FutureWarning: The frame.append method is deprecated and will be removed from pandas in a future version. Use pandas.concat instead.\n",
      "  df = df.append(hour_data,ignore_index=True)\n",
      "/Volumes/SanDisk/opt/anaconda3/envs/python_3_8/lib/python3.8/site-packages/forest/poplar/legacy/common_funcs.py:136: FutureWarning: The frame.append method is deprecated and will be removed from pandas in a future version. Use pandas.concat instead.\n",
      "  df = df.append(hour_data,ignore_index=True)\n",
      "/Volumes/SanDisk/opt/anaconda3/envs/python_3_8/lib/python3.8/site-packages/forest/poplar/legacy/common_funcs.py:136: FutureWarning: The frame.append method is deprecated and will be removed from pandas in a future version. Use pandas.concat instead.\n",
      "  df = df.append(hour_data,ignore_index=True)\n",
      "/Volumes/SanDisk/opt/anaconda3/envs/python_3_8/lib/python3.8/site-packages/forest/poplar/legacy/common_funcs.py:136: FutureWarning: The frame.append method is deprecated and will be removed from pandas in a future version. Use pandas.concat instead.\n",
      "  df = df.append(hour_data,ignore_index=True)\n",
      "/Volumes/SanDisk/opt/anaconda3/envs/python_3_8/lib/python3.8/site-packages/forest/poplar/legacy/common_funcs.py:136: FutureWarning: The frame.append method is deprecated and will be removed from pandas in a future version. Use pandas.concat instead.\n",
      "  df = df.append(hour_data,ignore_index=True)\n",
      "/Volumes/SanDisk/opt/anaconda3/envs/python_3_8/lib/python3.8/site-packages/forest/poplar/legacy/common_funcs.py:136: FutureWarning: The frame.append method is deprecated and will be removed from pandas in a future version. Use pandas.concat instead.\n",
      "  df = df.append(hour_data,ignore_index=True)\n",
      "/Volumes/SanDisk/opt/anaconda3/envs/python_3_8/lib/python3.8/site-packages/forest/poplar/legacy/common_funcs.py:136: FutureWarning: The frame.append method is deprecated and will be removed from pandas in a future version. Use pandas.concat instead.\n",
      "  df = df.append(hour_data,ignore_index=True)\n",
      "/Volumes/SanDisk/opt/anaconda3/envs/python_3_8/lib/python3.8/site-packages/forest/poplar/legacy/common_funcs.py:136: FutureWarning: The frame.append method is deprecated and will be removed from pandas in a future version. Use pandas.concat instead.\n",
      "  df = df.append(hour_data,ignore_index=True)\n",
      "/Volumes/SanDisk/opt/anaconda3/envs/python_3_8/lib/python3.8/site-packages/forest/poplar/legacy/common_funcs.py:136: FutureWarning: The frame.append method is deprecated and will be removed from pandas in a future version. Use pandas.concat instead.\n",
      "  df = df.append(hour_data,ignore_index=True)\n",
      "/Volumes/SanDisk/opt/anaconda3/envs/python_3_8/lib/python3.8/site-packages/forest/poplar/legacy/common_funcs.py:136: FutureWarning: The frame.append method is deprecated and will be removed from pandas in a future version. Use pandas.concat instead.\n",
      "  df = df.append(hour_data,ignore_index=True)\n",
      "/Volumes/SanDisk/opt/anaconda3/envs/python_3_8/lib/python3.8/site-packages/forest/poplar/legacy/common_funcs.py:136: FutureWarning: The frame.append method is deprecated and will be removed from pandas in a future version. Use pandas.concat instead.\n",
      "  df = df.append(hour_data,ignore_index=True)\n",
      "/Volumes/SanDisk/opt/anaconda3/envs/python_3_8/lib/python3.8/site-packages/forest/poplar/legacy/common_funcs.py:136: FutureWarning: The frame.append method is deprecated and will be removed from pandas in a future version. Use pandas.concat instead.\n",
      "  df = df.append(hour_data,ignore_index=True)\n",
      "/Volumes/SanDisk/opt/anaconda3/envs/python_3_8/lib/python3.8/site-packages/forest/poplar/legacy/common_funcs.py:136: FutureWarning: The frame.append method is deprecated and will be removed from pandas in a future version. Use pandas.concat instead.\n",
      "  df = df.append(hour_data,ignore_index=True)\n",
      "/Volumes/SanDisk/opt/anaconda3/envs/python_3_8/lib/python3.8/site-packages/forest/poplar/legacy/common_funcs.py:136: FutureWarning: The frame.append method is deprecated and will be removed from pandas in a future version. Use pandas.concat instead.\n",
      "  df = df.append(hour_data,ignore_index=True)\n",
      "/Volumes/SanDisk/opt/anaconda3/envs/python_3_8/lib/python3.8/site-packages/forest/poplar/legacy/common_funcs.py:136: FutureWarning: The frame.append method is deprecated and will be removed from pandas in a future version. Use pandas.concat instead.\n",
      "  df = df.append(hour_data,ignore_index=True)\n",
      "/Volumes/SanDisk/opt/anaconda3/envs/python_3_8/lib/python3.8/site-packages/forest/poplar/legacy/common_funcs.py:136: FutureWarning: The frame.append method is deprecated and will be removed from pandas in a future version. Use pandas.concat instead.\n",
      "  df = df.append(hour_data,ignore_index=True)\n",
      "/Volumes/SanDisk/opt/anaconda3/envs/python_3_8/lib/python3.8/site-packages/forest/poplar/legacy/common_funcs.py:136: FutureWarning: The frame.append method is deprecated and will be removed from pandas in a future version. Use pandas.concat instead.\n",
      "  df = df.append(hour_data,ignore_index=True)\n",
      "/Volumes/SanDisk/opt/anaconda3/envs/python_3_8/lib/python3.8/site-packages/forest/poplar/legacy/common_funcs.py:136: FutureWarning: The frame.append method is deprecated and will be removed from pandas in a future version. Use pandas.concat instead.\n",
      "  df = df.append(hour_data,ignore_index=True)\n",
      "/Volumes/SanDisk/opt/anaconda3/envs/python_3_8/lib/python3.8/site-packages/forest/poplar/legacy/common_funcs.py:136: FutureWarning: The frame.append method is deprecated and will be removed from pandas in a future version. Use pandas.concat instead.\n",
      "  df = df.append(hour_data,ignore_index=True)\n",
      "/Volumes/SanDisk/opt/anaconda3/envs/python_3_8/lib/python3.8/site-packages/forest/poplar/legacy/common_funcs.py:136: FutureWarning: The frame.append method is deprecated and will be removed from pandas in a future version. Use pandas.concat instead.\n",
      "  df = df.append(hour_data,ignore_index=True)\n",
      "/Volumes/SanDisk/opt/anaconda3/envs/python_3_8/lib/python3.8/site-packages/forest/poplar/legacy/common_funcs.py:136: FutureWarning: The frame.append method is deprecated and will be removed from pandas in a future version. Use pandas.concat instead.\n",
      "  df = df.append(hour_data,ignore_index=True)\n",
      "/Volumes/SanDisk/opt/anaconda3/envs/python_3_8/lib/python3.8/site-packages/forest/poplar/legacy/common_funcs.py:136: FutureWarning: The frame.append method is deprecated and will be removed from pandas in a future version. Use pandas.concat instead.\n",
      "  df = df.append(hour_data,ignore_index=True)\n",
      "/Volumes/SanDisk/opt/anaconda3/envs/python_3_8/lib/python3.8/site-packages/forest/poplar/legacy/common_funcs.py:136: FutureWarning: The frame.append method is deprecated and will be removed from pandas in a future version. Use pandas.concat instead.\n",
      "  df = df.append(hour_data,ignore_index=True)\n"
     ]
    },
    {
     "name": "stdout",
     "output_type": "stream",
     "text": [
      "Collapse data within 10 second intervals ...\n",
      "Extract flights and pauses ...\n",
      "Infer unclassified windows ...\n",
      "Merge consecutive pauses and bridge gaps ...\n",
      "Selecting basis vectors ...\n",
      "Imputing missing trajectories ...\n",
      "Tidying up the trajectories...\n",
      "Calculating the daily summary stats...\n"
     ]
    }
   ],
   "source": [
    "import forest.jasmine.traj2stats\n",
    "\n",
    "data_dir = \"data/onnela_lab_gps_testing\"\n",
    "output_dir = \"gps_output\"\n",
    "tz_str = \"America/New_York\"\n",
    "option = \"daily\"\n",
    "save_traj = True \n",
    "\n",
    "forest.jasmine.traj2stats.gps_stats_main(data_dir, output_dir, tz_str, option, save_traj)"
   ]
  },
  {
   "cell_type": "markdown",
   "metadata": {},
   "source": [
    "*The output should describe how the data is being processed. If this is working correctly, you will see something like:*\n",
    "    \n",
    "><i>User: tcqrulfj  \n",
    "Read in the csv files ...  \n",
    "Collapse data within 10 second intervals ...  \n",
    "Extract flights and pauses ...  \n",
    "Infer unclassified windows ...  \n",
    "Merge consecutive pauses and bridge gaps ...  \n",
    "Selecting basis vectors ...  \n",
    "Imputing missing trajectories ...  \n",
    "Tidying up the trajectories...  \n",
    "Calculating the daily summary stats...<i>"
   ]
  },
  {
   "cell_type": "markdown",
   "metadata": {},
   "source": [
    "Second, we compute the call and text-based summary statistics by using the **log_stats_main** function under the **log_stats.py** in the Willow tree of Forest  "
   ]
  },
  {
   "cell_type": "markdown",
   "metadata": {},
   "source": [
    "- For **data_dir**, enter the \"path to the data file directory\". \n",
    "- For **output_dir**, enter the \"path to the file directory where output is to be stored\". \n",
    "- For **tz_str**, enter the time zone where the study was conducted. Here, it's **\"America/New_York.\"** \n",
    "- For **options**, it's 'daily' or 'hourly' or 'both' for the temporal resolution for summary statistics. Here, we chose **\"daily.\"**"
   ]
  },
  {
   "cell_type": "code",
   "execution_count": 7,
   "metadata": {},
   "outputs": [
    {
     "name": "stdout",
     "output_type": "stream",
     "text": [
      "User: 6b38vskd\n",
      "User 6b38vskd : texts data are not collected.\n",
      "Data imported ...\n",
      "An error occured when processing the data.\n"
     ]
    }
   ],
   "source": [
    "import forest.willow.log_stats\n",
    "\n",
    "data_dir = \"data/onnela_lab_gps_testing\"\n",
    "output_dir = \"comm_output\"\n",
    "tz_str = \"America/New_York\"\n",
    "option = \"daily\"\n",
    "\n",
    "forest.willow.log_stats.log_stats_main(data_dir, output_dir, tz_str, option)\n"
   ]
  },
  {
   "cell_type": "markdown",
   "metadata": {},
   "source": [
    "*The output should describe how the data is being processed (e.g., read, collapse, extracted...imputing, tidying, and calculating daily summary stats).*\n",
    "\n",
    ">*Note- this isn't currently working on our sample dataset.*"
   ]
  },
  {
   "cell_type": "markdown",
   "metadata": {},
   "source": [
    "The outputs of **gps_stats_main** and **log_stats_main** are generated with respect to each suject in the study folder. \n",
    "- The following code is  used to concatenate these files into a single csv for the **GPS summaries**."
   ]
  },
  {
   "cell_type": "code",
   "execution_count": 8,
   "metadata": {},
   "outputs": [
    {
     "name": "stdout",
     "output_type": "stream",
     "text": [
      "   Beiwe_ID       Date  obs_duration    obs_day  obs_night  home_time  \\\n",
      "0  6b38vskd 2016-01-26      8.897222   3.202778   5.694444   1.494444   \n",
      "1  6b38vskd 2016-01-27     23.026389  10.475000  12.551389   0.000000   \n",
      "2  6b38vskd 2016-01-28     21.131944   8.658333  12.473611   0.000000   \n",
      "3  6b38vskd 2016-01-29     23.386111  11.475000  11.911111   0.000000   \n",
      "4  6b38vskd 2016-01-30     23.769444  11.869444  11.900000   0.000000   \n",
      "\n",
      "   dist_traveled  max_dist_home    radius  diameter  num_sig_places   entropy  \\\n",
      "0         18.403       6.174510  2.298990  6.965317               3  0.900776   \n",
      "1         11.003       2.051055  0.588324  2.624131               4  0.658586   \n",
      "2         25.422       6.187269  2.531129  6.570162               4  1.030304   \n",
      "3         24.096       6.305391  2.581244  6.616111               2  0.613772   \n",
      "4          5.344       1.196300  0.082612  1.229596               3  0.221864   \n",
      "\n",
      "   total_flight_time  av_flight_length  sd_flight_length  av_flight_duration  \\\n",
      "0           1.652588          0.062809          0.089155            0.005640   \n",
      "1           1.450681          0.050940          0.064834            0.006716   \n",
      "2           2.845034          0.057909          0.109521            0.006481   \n",
      "3           2.392785          0.082239          0.125414            0.008167   \n",
      "4           1.178572          0.050415          0.047451            0.011119   \n",
      "\n",
      "   sd_flight_duration  total_pause_time  av_pause_duration  sd_pause_duration  \n",
      "0            0.004920          9.330745           0.008753           0.116153  \n",
      "1            0.006363         22.549319           0.054865           0.274012  \n",
      "2            0.005920         21.154966           0.013710           0.122208  \n",
      "3            0.007993         21.607215           0.092339           0.304244  \n",
      "4            0.008933         22.821428           0.256421           0.607970  \n"
     ]
    }
   ],
   "source": [
    "import numpy as np\n",
    "import pandas as pd\n",
    "import os\n",
    "import sys\n",
    "from pathlib import Path\n",
    "from datetime import datetime\n",
    "from datetime import timedelta  \n",
    "import math\n",
    "from functools import reduce\n",
    "\n",
    "# Path to subdirectory\n",
    "direc = os.getcwd()\n",
    "data_dir = os.path.join(direc,\"gps_output\")\n",
    "\n",
    "\n",
    "# initialize dataframe list\n",
    "df_list = []\n",
    "\n",
    "# loop through all directories - select folder\n",
    "for subdir, dirs, files in os.walk(data_dir):\n",
    "    \n",
    "    # loop through files in list\n",
    "    for file in files:\n",
    "        # obtain subject study_id \n",
    "        file_dir = os.path.join(data_dir,file)\n",
    "        subject_id = os.path.basename(file_dir)[:-4]\n",
    "        if file[-4:] == \".csv\":# only read in csv files\n",
    "            temp_df = pd.read_csv(file_dir)\n",
    "            temp_df.insert(loc=0, column=\"Date\", value=pd.to_datetime(temp_df[['day', 'month', 'year']]))\n",
    "            temp_df.insert(loc=0, column='Beiwe_ID', value=subject_id)\n",
    "            df_list.append(temp_df)\n",
    "            \n",
    "if len(df_list) > 0:\n",
    "                \n",
    "    # concatenate dataframes within list --> Final Data for trajectories\n",
    "    response_data = pd.concat(df_list, axis=0).reset_index()\n",
    "    response_data = response_data.drop(['index','day', 'month', 'year'], axis=1)\n",
    "\n",
    "    # print few few observations\n",
    "    print(response_data.head())\n",
    "\n",
    "    # Write results to CSV \n",
    "    response_filename = 'gps_summary.csv'\n",
    "\n",
    "    path_resp = os.path.join(direc, response_filename)    \n",
    "\n",
    "    # write to csv\n",
    "    response_data.to_csv(path_resp, index=False)\n",
    "else:\n",
    "    print(\"Error: No data found\")"
   ]
  },
  {
   "cell_type": "markdown",
   "metadata": {},
   "source": [
    "*The output should show the data for the first five observations in the concatenated dataset.*"
   ]
  },
  {
   "cell_type": "markdown",
   "metadata": {},
   "source": [
    "- The following code is  used to concatenate these files into a single csv for the **communication summaries**."
   ]
  },
  {
   "cell_type": "code",
   "execution_count": 9,
   "metadata": {},
   "outputs": [
    {
     "name": "stdout",
     "output_type": "stream",
     "text": [
      "Error: No data found\n"
     ]
    }
   ],
   "source": [
    "# (use study_id and timestamp)\n",
    "# Path to subdirectory\n",
    "direc = os.getcwd()\n",
    "data_dir = os.path.join(direc,\"comm_output\")\n",
    "\n",
    "\n",
    "# initialize dataframe list\n",
    "df_list = []\n",
    "\n",
    "# loop through all directories - select folder\n",
    "for subdir, dirs, files in os.walk(data_dir):\n",
    "    \n",
    "    # loop through files in list\n",
    "    for file in files:\n",
    "        # obtain patient study_id \n",
    "        file_dir = os.path.join(data_dir,file)\n",
    "        print(file_dir)\n",
    "        subject_id = os.path.basename(file_dir)[:-4]\n",
    "        if file[-4:] == \".csv\":\n",
    "            temp_df = pd.read_csv(file_dir)\n",
    "            temp_df.insert(loc=0, column=\"Date\", value=pd.to_datetime(temp_df[['day', 'month', 'year']]))\n",
    "            temp_df.insert(loc=0, column='Beiwe_ID', value=subject_id)\n",
    "            df_list.append(temp_df)\n",
    "                \n",
    "# concatenate dataframes within list --> Final Data for trajectories\n",
    "if len(df_list) > 0:\n",
    "    response_data = pd.concat(df_list, axis=0).reset_index()\n",
    "    response_data = response_data.drop(['index','day', 'month', 'year'], axis=1)\n",
    "\n",
    "    # print few few observations\n",
    "    print(response_data.head())\n",
    "\n",
    "    # Write results to CSV \n",
    "    response_filename = 'comm_summary.csv'\n",
    "\n",
    "    path_resp = os.path.join(direc, response_filename)    \n",
    "\n",
    "    # write to csv\n",
    "    response_data.to_csv(path_resp, index=False)\n",
    "else:\n",
    "    print(\"Error: No data found\")"
   ]
  },
  {
   "cell_type": "markdown",
   "metadata": {},
   "source": [
    "*The output should show the data for the first five observations in the concatenated dataset.*"
   ]
  },
  {
   "cell_type": "markdown",
   "metadata": {},
   "source": [
    "## Plot Data"
   ]
  },
  {
   "cell_type": "markdown",
   "metadata": {},
   "source": [
    "Now, we will also be generate some time series plots using the generated statistic summaries.\n",
    "- To read the file, we need to define **response_filename** with the concatenated dataset. Here, we are using 'gps_summary.csv'."
   ]
  },
  {
   "cell_type": "code",
   "execution_count": 30,
   "metadata": {},
   "outputs": [],
   "source": [
    "import matplotlib.pyplot as plt\n",
    "import os\n",
    "import pandas as pd\n",
    "\n",
    "direc = os.getcwd()\n",
    "response_filename = 'gps_summary.csv'\n",
    "path_resp = os.path.join(direc, response_filename)    \n",
    "\n",
    "# read data\n",
    "response_data = pd.read_csv(path_resp)\n"
   ]
  },
  {
   "cell_type": "markdown",
   "metadata": {},
   "source": [
    "The data needs to be sorted according to date. The following code will sort and create 4 even time intervals in the plot. "
   ]
  },
  {
   "cell_type": "code",
   "execution_count": 1,
   "metadata": {
    "collapsed": true
   },
   "outputs": [
    {
     "ename": "NameError",
     "evalue": "name 'response_data' is not defined",
     "output_type": "error",
     "traceback": [
      "\u001b[0;31m---------------------------------------------------------------------------\u001b[0m",
      "\u001b[0;31mNameError\u001b[0m                                 Traceback (most recent call last)",
      "\u001b[0;32m/var/folders/nl/92kzg8c56mn1872898r7rjr40000gn/T/ipykernel_96458/1316156180.py\u001b[0m in \u001b[0;36m<module>\u001b[0;34m\u001b[0m\n\u001b[1;32m      1\u001b[0m \u001b[0;31m## Make sure the data is sorted according to date\u001b[0m\u001b[0;34m\u001b[0m\u001b[0;34m\u001b[0m\u001b[0m\n\u001b[0;32m----> 2\u001b[0;31m \u001b[0mresponse_data\u001b[0m\u001b[0;34m.\u001b[0m\u001b[0msort_values\u001b[0m\u001b[0;34m(\u001b[0m\u001b[0;34m'Date'\u001b[0m\u001b[0;34m,\u001b[0m \u001b[0minplace\u001b[0m \u001b[0;34m=\u001b[0m \u001b[0;32mTrue\u001b[0m\u001b[0;34m)\u001b[0m\u001b[0;34m\u001b[0m\u001b[0;34m\u001b[0m\u001b[0m\n\u001b[0m\u001b[1;32m      3\u001b[0m \u001b[0mresponse_data\u001b[0m\u001b[0;34m.\u001b[0m\u001b[0mreset_index\u001b[0m\u001b[0;34m(\u001b[0m\u001b[0mdrop\u001b[0m \u001b[0;34m=\u001b[0m \u001b[0;32mTrue\u001b[0m\u001b[0;34m,\u001b[0m \u001b[0minplace\u001b[0m \u001b[0;34m=\u001b[0m \u001b[0;32mTrue\u001b[0m\u001b[0;34m)\u001b[0m\u001b[0;34m\u001b[0m\u001b[0;34m\u001b[0m\u001b[0m\n\u001b[1;32m      4\u001b[0m \u001b[0;34m\u001b[0m\u001b[0m\n\u001b[1;32m      5\u001b[0m \u001b[0;32mdef\u001b[0m \u001b[0mtime_series_plot\u001b[0m\u001b[0;34m(\u001b[0m\u001b[0mvar_to_plot\u001b[0m\u001b[0;34m,\u001b[0m \u001b[0mylab\u001b[0m \u001b[0;34m=\u001b[0m \u001b[0;34m''\u001b[0m\u001b[0;34m,\u001b[0m \u001b[0mxlab\u001b[0m \u001b[0;34m=\u001b[0m \u001b[0;34m'Date'\u001b[0m\u001b[0;34m,\u001b[0m \u001b[0mnum_x_ticks\u001b[0m \u001b[0;34m=\u001b[0m \u001b[0;36m4\u001b[0m\u001b[0;34m)\u001b[0m\u001b[0;34m:\u001b[0m\u001b[0;34m\u001b[0m\u001b[0;34m\u001b[0m\u001b[0m\n",
      "\u001b[0;31mNameError\u001b[0m: name 'response_data' is not defined"
     ]
    }
   ],
   "source": [
    "## Make sure the data is sorted according to date\n",
    "response_data.sort_values('Date', inplace = True)\n",
    "response_data.reset_index(drop = True, inplace = True)\n",
    "\n",
    "def time_series_plot(var_to_plot, ylab = '', xlab = 'Date', num_x_ticks = 4):\n",
    "    for key, grp in response_data.groupby(['Beiwe_ID']):\n",
    "        plt.plot(response_data.Date, response_data[var_to_plot], label=key)\n",
    "    \n",
    "    #if len(response_data['Beiwe_ID'].unique()) > 1: ## more than one user to plot\n",
    "    #    plt.plot(response_data.Date, response_data[var_to_plot], c=response_data['Beiwe_ID'].astype('category'))\n",
    "    #else:\n",
    "    #    plt.plot(response_data.Date, response_data[var_to_plot]) #just one user\n",
    "    title = f\"Time Series Plot of {var_to_plot}\"\n",
    "    plt.title(title)\n",
    "    plt.xlabel(xlab)\n",
    "    plt.ylabel(ylab)\n",
    "    \n",
    "    ## get evenly indices\n",
    "    tick_indices = [(i * (len(response_data.Date.unique()) - 1)) // (num_x_ticks - 1) for i in range(num_x_ticks) ]\n",
    "    \n",
    "    plt.xticks(response_data.Date.unique()[tick_indices])\n",
    "    plt.show()"
   ]
  },
  {
   "cell_type": "markdown",
   "metadata": {},
   "source": [
    "- You can now create time series plots using **time_series_plot('variable')**."
   ]
  },
  {
   "cell_type": "code",
   "execution_count": 31,
   "metadata": {},
   "outputs": [
    {
     "data": {
      "image/png": "[encoded data removed]",
      "text/plain": [
       "<Figure size 432x288 with 1 Axes>"
      ]
     },
     "metadata": {
      "needs_background": "light"
     },
     "output_type": "display_data"
    }
   ],
   "source": [
    "time_series_plot('dist_traveled', ylab = \"km\")"
   ]
  },
  {
   "cell_type": "markdown",
   "metadata": {},
   "source": [
    "*The output displays a time series plot for the variable, \"dist_traveled.\"*"
   ]
  },
  {
   "cell_type": "code",
   "execution_count": 32,
   "metadata": {},
   "outputs": [
    {
     "data": {
      "image/png": "[encoded data removed]",
      "text/plain": [
       "<Figure size 432x288 with 1 Axes>"
      ]
     },
     "metadata": {
      "needs_background": "light"
     },
     "output_type": "display_data"
    }
   ],
   "source": [
    "time_series_plot('sd_flight_length', ylab = \"km\")"
   ]
  },
  {
   "cell_type": "markdown",
   "metadata": {},
   "source": [
    "*The output displays a time series plot for the variable, \"sd_flight_length.\"*"
   ]
  }
 ],
 "metadata": {
  "interpreter": {
   "hash": "2db524e06e9f5f4ffedc911c917cb75e12dbc923643829bf417064a77eb14d37"
  },
  "kernelspec": {
   "display_name": "Python 3 (ipykernel)",
   "language": "python",
   "name": "python3"
  },
  "language_info": {
   "codemirror_mode": {
    "name": "ipython",
    "version": 3
   },
   "file_extension": ".py",
   "mimetype": "text/x-python",
   "name": "python",
   "nbconvert_exporter": "python",
   "pygments_lexer": "ipython3",
   "version": "3.9.7"
  }
 },
 "nbformat": 4,
 "nbformat_minor": 2
}
